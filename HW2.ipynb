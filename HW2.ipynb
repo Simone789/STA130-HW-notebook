{
 "cells": [
  {
   "cell_type": "markdown",
   "id": "3844e8a1",
   "metadata": {},
   "source": [
    "Question 1"
   ]
  },
  {
   "cell_type": "code",
   "execution_count": null,
   "id": "bcdd84d2",
   "metadata": {},
   "outputs": [],
   "source": [
    "import numpy as np\n",
    "all_door_options = (1, 2, 3)  # tuple\n",
    "my_door_choice = 1  # 1, 2, 3\n",
    "i_won = 0\n",
    "reps = 100000\n",
    "for i in range(reps):\n",
    "    secret_winning_door = np.random.choice(all_door_options)"
   ]
  },
  {
   "cell_type": "markdown",
   "id": "89860c1e",
   "metadata": {},
   "source": [
    "all_door_options: This is a tuple representing the three doors in the game (1, 2, 3).\n",
    "my_door_choice: The player always starts by picking door 1 (this is arbitrary; it could be any door).\n",
    "i_won: A counter initialized at 0 to track how many times the player wins.\n",
    "reps: The number of repetitions (100,000 simulations) for the experiment.\n",
    "Loop over reps: This loop runs 100,000 simulations.\n",
    "secret_winning_door: Randomly selects which of the 3 doors hides the car (i.e., the winning door)."
   ]
  },
  {
   "cell_type": "code",
   "execution_count": null,
   "id": "521973af",
   "metadata": {},
   "outputs": [],
   "source": [
    "    all_door_options_list = list(all_door_options)\n",
    "    all_door_options_list.remove(secret_winning_door)\n"
   ]
  },
  {
   "cell_type": "markdown",
   "id": "6794bd96",
   "metadata": {},
   "source": [
    "all_door_options_list: Converts the tuple into a list so that elements can be removed.\n",
    "all_door_options_list.remove(secret_winning_door): The winning door is removed from the list, so it won’t be accidentally revealed as a goat."
   ]
  },
  {
   "cell_type": "code",
   "execution_count": null,
   "id": "2db022b7",
   "metadata": {},
   "outputs": [],
   "source": [
    "    try:\n",
    "        all_door_options_list.remove(my_door_choice)\n",
    "    except:\n",
    "        pass\n"
   ]
  },
  {
   "cell_type": "markdown",
   "id": "e8b15a56",
   "metadata": {},
   "source": [
    "The code tries to remove the player's initial door choice from all_door_options_list.\n",
    "If the player's choice is the same as the secret winning door, it will already be removed.\n",
    "The try-except block ensures the program doesn't crash if it tries to remove something that’s not in the list."
   ]
  },
  {
   "cell_type": "code",
   "execution_count": null,
   "id": "0ffe7015",
   "metadata": {},
   "outputs": [],
   "source": [
    "    goat_door_reveal = np.random.choice(all_door_options_list)\n",
    "    all_door_options_list.remove(goat_door_reveal)\n"
   ]
  },
  {
   "cell_type": "markdown",
   "id": "1530eee5",
   "metadata": {},
   "source": [
    "goat_door_reveal: Randomly selects one of the remaining doors to reveal as a goat (since only goats remain in all_door_options_list).\n",
    "The revealed goat door is removed from all_door_options_list, leaving just one door in the list."
   ]
  },
  {
   "cell_type": "code",
   "execution_count": null,
   "id": "9bebd25f",
   "metadata": {},
   "outputs": [],
   "source": [
    "  if secret_winning_door != my_door_choice:\n",
    "    all_door_options_list.append(secret_winning_door)\n"
   ]
  },
  {
   "cell_type": "markdown",
   "id": "8fe02393",
   "metadata": {},
   "source": [
    "If the player's initial choice is not the secret winning door, we add the secret winning door back to the list. This is because Monty’s reveal leaves just two doors: the one you initially chose and the one Monty didn’t reveal (which could be the winning door)."
   ]
  },
  {
   "cell_type": "code",
   "execution_count": null,
   "id": "af46c118",
   "metadata": {},
   "outputs": [],
   "source": [
    "    my_door_choice = all_door_options_list[0]"
   ]
  },
  {
   "cell_type": "markdown",
   "id": "31d8c07c",
   "metadata": {},
   "source": [
    "The player's choice is now switched to the remaining door in all_door_options_list."
   ]
  },
  {
   "cell_type": "code",
   "execution_count": null,
   "id": "a2495063",
   "metadata": {},
   "outputs": [],
   "source": [
    "    if my_door_choice == secret_winning_door:\n",
    "        i_won += 1\n",
    "\n",
    "i_won / reps\n"
   ]
  },
  {
   "cell_type": "markdown",
   "id": "3b1a1b03",
   "metadata": {},
   "source": [
    "If the player's final choice (after switching) is the secret winning door, they win, and i_won is incremented."
   ]
  },
  {
   "cell_type": "markdown",
   "id": "1f640ab2",
   "metadata": {},
   "source": [
    "Question2:"
   ]
  },
  {
   "cell_type": "code",
   "execution_count": 1,
   "id": "feff674f",
   "metadata": {},
   "outputs": [
    {
     "data": {
      "text/plain": [
       "0.6674"
      ]
     },
     "execution_count": 1,
     "metadata": {},
     "output_type": "execute_result"
    }
   ],
   "source": [
    "import numpy as np\n",
    "\n",
    "# Simulation setup\n",
    "doors = [1, 2, 3]\n",
    "switch_wins = 0\n",
    "simulations = 100000\n",
    "\n",
    "for _ in range(simulations):\n",
    "    winning_door = np.random.choice(doors)  # Randomly pick the winning door\n",
    "    initial_choice = np.random.choice(doors)  # Player randomly chooses a door\n",
    "    \n",
    "    # Monty reveals a goat door (not the winning or initially chosen door)\n",
    "    remaining_doors = [door for door in doors if door != initial_choice and door != winning_door]\n",
    "    monty_reveals = np.random.choice(remaining_doors)\n",
    "    \n",
    "    # Player switches to the remaining unopened door\n",
    "    switch_choice = [door for door in doors if door != initial_choice and door != monty_reveals][0]\n",
    "    \n",
    "    # Check if the player wins by switching\n",
    "    if switch_choice == winning_door:\n",
    "        switch_wins += 1\n",
    "\n",
    "# Calculate win rate when switching\n",
    "win_rate = switch_wins / simulations\n",
    "win_rate\n"
   ]
  },
  {
   "cell_type": "markdown",
   "id": "c48df56d",
   "metadata": {},
   "source": [
    "The original and improved code can both simulate the Monty Hall problem, but the improved version stands out because of its readibility or explainability. The original code is clear, but the try/except block, repeated list manipulations, and appending/removing make it harder to follow the simulation's logic.The improved code is easier to follow because each step in the simulation is clearly outlined.\n",
    "Improved Code provides a clearer, high-level view of what happens at each step, with less clutter. The structure naturally shows the sequence of events (initial choice, Monty’s reveal, remaining doors,the switch, and checking for a win). The original code’s comments are also helpful, but the overall flow could be simplified. The try/except block is a bit confused."
   ]
  },
  {
   "cell_type": "markdown",
   "id": "0f7295f9",
   "metadata": {},
   "source": [
    "Question3:"
   ]
  },
  {
   "cell_type": "code",
   "execution_count": 6,
   "id": "f54821bc",
   "metadata": {},
   "outputs": [
    {
     "data": {
      "text/plain": [
       "0.66584"
      ]
     },
     "execution_count": 6,
     "metadata": {},
     "output_type": "execute_result"
    }
   ],
   "source": [
    "import numpy as np\n",
    "\n",
    "# Simulation setup\n",
    "doors = [1, 2, 3]  # A list of doors which can be changed(instead of a tuple which is immutable).\n",
    "switch_wins = 0 #A counter to track how many times switching results in a win\n",
    "simulations = 100000 #Number of times to repeat the experiment.\n",
    "\n",
    "for _ in range(simulations): \n",
    "    winning_door = np.random.choice(doors)  # Randomly pick the winning door with the car\n",
    "    initial_choice = np.random.choice(doors)  # Player randomly chooses a door\n",
    "    \n",
    "    # Monty reveals a goat door (not the winning or initially chosen door)\n",
    "    remaining_doors = [door for door in doors if door != initial_choice and door != winning_door]#A list of doors that are neither the player’s choice nor the winning door (these are the \"goat\" doors).\n",
    "    monty_reveals = np.random.choice(remaining_doors)#Monty randomly picks one of these goat doors to reveal.\n",
    "    \n",
    "    # Player switches to the remaining unopened door\n",
    "    switch_choice = [door for door in doors if door != initial_choice and door != monty_reveals][0] #The player switches to the remaining unopened door.#[0] is extracting the first element from the list created by the list comprehension\n",
    "    \n",
    "    # Check if the player wins by switching\n",
    "    if switch_choice == winning_door:\n",
    "        switch_wins += 1 #If the player’s new choice (after switching) is the winning door, increment the switch_wins counter.\n",
    "\n",
    "# Calculate win rate when switching\n",
    "win_rate = switch_wins / simulations\n",
    "win_rate\n",
    "#The ratio of wins to the total number of simulations."
   ]
  },
  {
   "cell_type": "markdown",
   "id": "02df2841",
   "metadata": {},
   "source": [
    "summary of chatbot(Question 1 , 2 and 3):https://chatgpt.com/share/66e90c40-c51c-8010-a42c-6e61dc07f749"
   ]
  },
  {
   "cell_type": "markdown",
   "id": "8c2bf782",
   "metadata": {},
   "source": [
    "Question 4"
   ]
  },
  {
   "cell_type": "code",
   "execution_count": 4,
   "id": "4d2ffeef",
   "metadata": {},
   "outputs": [
    {
     "name": "stdout",
     "output_type": "stream",
     "text": [
      "{'hello': 2, 'world': 1}\n",
      "{'hello': {'world': 1, 'there': 1}, 'world': {'hello': 1}}\n"
     ]
    }
   ],
   "source": [
    "from collections import defaultdict #use defaultdict(int) for word_used, so you don't need to check if a word exists before incrementing its count. \n",
    "\n",
    "# Input words list\n",
    "words = [\"hello\", \"world\", \"hello\", \"there\"]\n",
    "\n",
    "# Define the data structures to track word usage and transitions\n",
    "word_used = dict()  # This dictionary keeps track of how many times each word appears in the text. \n",
    "next_word = dict()  #This dictionary tracks what word typically follows each word and how often that transition happens.\n",
    "\n",
    "# Iterate through the list of words (excluding the last one) to build the word transition data\n",
    "for i, word in enumerate(words[:-1]):\n",
    "    # Count how many times a word is used .This loop iterates through each word in the words list, except for the last word. This is done because for each word, you’re looking at the word that follows it (words[i+1]).\n",
    "    if word in word_used:\n",
    "        word_used[word] += 1  # Increment count if word has already been used\n",
    "    else:\n",
    "        word_used[word] = 1  # If the word is used for the first time, set its count to 1\n",
    "        next_word[word] = {}  # Initialize an empty dictionary for tracking the next word\n",
    "        # checks if the word already exists in the word_used dictionary. If it does, the count of that word is incremented. If not, the word is added to the dictionary with a count of 1.\n",
    "\n",
    "    # Track the transition to the next word\n",
    "    if words[i+1] in next_word[word]:\n",
    "        next_word[word][words[i+1]] += 1  # Increment count of this word-to-next-word transition\n",
    "    else:\n",
    "        next_word[word][words[i+1]] = 1  # If first occurrence of transition, set it to 1\n",
    "        #looks at the word that follows the current word (words[i+1]). It checks if this next word has alreadyprint(\"Word Used Dictionary:\")\n",
    "print(dict(word_used))\n",
    "print(dict(next_word))\n"
   ]
  },
  {
   "cell_type": "markdown",
   "id": "29bdf252",
   "metadata": {},
   "source": [
    "summary of chatbot(Question 4):https://chatgpt.com/share/66e9c7a5-af0c-8010-8571-5d6740a061f7"
   ]
  },
  {
   "cell_type": "markdown",
   "id": "7ae45984",
   "metadata": {},
   "source": [
    "Question 5"
   ]
  },
  {
   "cell_type": "markdown",
   "id": "9c7c21f5",
   "metadata": {},
   "source": [
    "(1).(2).\n",
    "Changes in the Code:\n",
    "1.Use of defaultdict(int) and defaultdict(lambda: defaultdict(int)):\n",
    "defaultdict(int): This initializes the dictionary with an integer default value of 0, so whenever a new key is accessed for the first time, its value will start at 0.\n",
    "defaultdict(lambda: defaultdict(int)): This initializes a dictionary of dictionaries, where the inner dictionary also has a default integer value of 0. This structure allows nested dictionaries to be created dynamically when accessing new keys.\n",
    "2.Key Changes in the For Loop:\n",
    "The loop now iterates over the words except for the last two (words[:-2]).\n",
    "Instead of considering just a single word (word) as in the original code, this version concatenates two consecutive words (word + ' ' + words[i+1]) and treats them as a single unit (a bigram).\n",
    "It then records how often this bigram (two-word combination) occurs and which word comes after it.\n",
    "\n",
    "Summary of Extensions:\n",
    "Tracking Bigrams (Two-word Sequences): Instead of counting single words and their subsequent words, you're now considering bigrams (two-word sequences) as the base units and counting how often they appear.\n",
    "Predicting the Word after a Bigram: After counting the frequency of bigrams, you're also keeping track of what word typically follows each bigram, making your predictions based on two-word sequences instead of single words.\n",
    "Tracking Bigrams (Two-word Sequences): Instead of counting single words and their subsequent words, you're now considering bigrams (two-word sequences) as the base units and counting how often they appear.\n",
    "Predicting the Word after a Bigram: After counting the frequency of bigrams, you're also keeping track of what word typically follows each bigram, making your predictions based on two-word sequences instead of single words.\n",
    "\n",
    "summary of chatbot(5.1and 5.2):https://chatgpt.com/share/66ea04fc-d088-8010-b156-5c3d9c24bf01"
   ]
  },
  {
   "cell_type": "markdown",
   "id": "2363633f",
   "metadata": {},
   "source": [
    "(3):\n",
    "nested_dict: A function that creates a deeply nested defaultdict. This is used to handle hierarchical data structures, where each level is a defaultdict itself.\n",
    "word_used2C: A nested dictionary that will store counts of bigrams (word pairs) for each character.\n",
    "next_word2C: A deeply nested dictionary that will store counts of words following specific bigrams for each character.\n",
    "Iteration and Bigram Formation:\n",
    "\n",
    "The loop iterates through the list of words, stopping before the last two words to avoid index errors.\n",
    "Bigram Creation: For each word, it forms a bigram with the next word (word + ' ' + words[i + 1]).\n",
    "Updating Counts:\n",
    "word_used2C: Tracks how many times each bigram appears for each character. If a character exists and the bigram has not been seen before, it initializes the count to 0 and then increments it.\n",
    "next_word2C: Tracks how often a particular word follows a specific bigram for a given character. This is more detailed:\n",
    "It checks if the character and bigram are present in the dictionary.\n",
    "Updates the count of the next word following that bigram for that character.\n",
    "\n",
    "summary of chatbot:(5.3)https://chatgpt.com/share/66ea139f-1754-8010-8b6e-855b00ae019b\n",
    "\n"
   ]
  },
  {
   "cell_type": "markdown",
   "id": "a168aaa4",
   "metadata": {},
   "source": [
    "Question 6"
   ]
  },
  {
   "cell_type": "markdown",
   "id": "2056610c",
   "metadata": {},
   "source": [
    "(1)In general, chatbots explain the Monty Hall problem quickly. My door choice = all door options list[0] is one of the lines in the Monte Hall problem code that the ChatBot could easily explain to me when I gave it a TUT demo and engaged with it to learn how each part functions(This indicates that the player's choice is now switched to the remaining door in all_door_options_list.)Additionally, like in Question 2, it may point to a more straightforward and efficient method of coding up. By demonstrating the initial iteration of the \"Markovian ChatBot code,\" I am better able to comprehend how that initial version operated. About question 5, for both extensions (character-specific and bigrams), the ChatBot was fairly quick in offering explanations, though it initially reverted to the simpler, word-based Markov chain model.  With a bit of guidance, it adapted quickly, providing more relevant responses .In the third session, where I skipped the intermediate steps and went straight to the final extension, the ChatBot required more prompting but was still able to figure out the functionality once I offered clarifications. There could be a slight lag in getting precise answers that might involve programming simulations.Its flexibility in adjusting to more complex code logic was evident, although it relied on the hints I provided. As a result, the chatbot can also gently and step-by-step teach me something that I haven't studied before. \n",
    "Additionally, chatbots are capable of comprehending more complex final extensions without the need for intermediate extension code; nevertheless, in situations when they don't seem to understand what I'm saying, I should occasionally prompt them with some advice.\n",
    "Chatbots offer prompt and efficient assistance, which is beneficial for explaining ideas, correcting basic mistakes, and providing examples."
   ]
  },
  {
   "cell_type": "markdown",
   "id": "88cdeb01",
   "metadata": {},
   "source": [
    "(2)Whether or not interacting with ChatBot to try to figure things out was frustrating or unhelpful mostly depends on the complexity of the code and whether the instructions I provided are accurate enough. For basic concepts like the Monty Hall problem, there was little frustration. \n",
    "If the prompt is too vague or complex, its responses may require further clarification, which can lead to some back-and-forth before reaching a satisfactory solution. Especially when I ask the chatbot to understand more complicated extensions, such as Question 5.3, without ever providing the intermediate extension code. \n",
    "\n",
    "However, this wasn’t particularly frustrating because the ChatBot usually was directed to provide Python code to simulate the problem or steer the conversation towards a solution within a few iterations. \n",
    "\n",
    "Sometimes the answers provided by the chatbot are too simplistic, and I need to input more instructions to guide it towards deeper thinking. At the same time, there are moments when the chatbot's output is overly complex, and I have to sift through a lot of information to find the results I really want. When dealing with detailed bugs or intricate logic issues, while the ChatBot can offer potential solutions, it isn’t always as quick or helpful as a human tutor who can see the entire problem context."
   ]
  },
  {
   "cell_type": "markdown",
   "id": "2fe81c07",
   "metadata": {},
   "source": [
    "（3）Based on my experiences so far, I would rate the usefulness of ChatBots for understanding code as highly beneficial, especially for conceptual explanations and troubleshooting common issues. \n",
    "Most of the time, in the case of simple instructions, chatbot can quickly understand my needs and fulfill them. It is valuable for explaining concepts, fixing simple errors, and providing examples.\n",
    "Chatbit offers helpful guidance when trying to implement new algorithms or structures, like Markov chains, providing both theoretical explanations and code snippets.\n",
    "Even if the first response isn’t perfect, the ChatBot is patient and iterative, allowing for back-and-forth to arrive at a solution.\n",
    "Compared to search engines like Google, chatbot can focus on the individual code and write unique and personalized code comments for me, rather than giving a broad explanation of the general meaning of a particular command.When dealing with coding errors, ChatBots is great for spotting common mistakes such as syntax errors, misused functions, or basic logic flaws. It can guide me to potential solutions by pointing out issues in the code or offering suggestions to improve my logic, rather than having to search online and troubleshoot step by step.For example, when asking when \"NameError: name 'pd' is not defined\" happens, chatbot will tell me the meaning of this sentence and how to improve it. However, for more intricate or complex problems, ChatBots can sometimes struggle to provide the correct answer without extensive guidance. And it sometimes revert to basic explanations when more detail is needed while sometimes the answers are so broad that I have to spend time searching for and refining the information I need the most.\n",
    "But in most cases, chatbot is very useful for me as a beginner."
   ]
  },
  {
   "cell_type": "raw",
   "id": "f1b2ced7",
   "metadata": {},
   "source": [
    "Question 7                                               "
   ]
  },
  {
   "cell_type": "markdown",
   "id": "cae69282",
   "metadata": {},
   "source": [
    "Before the STA130 class, I rarely used chatbot to help me study and solve problems. When the professor introduced the concept of chatbot and applied it in the classroom, I truly experienced the efficiency and convenience of chatbot. The range of problems that chatbots can solve is very broad, from explaining the meaning behind a piece of code to explaining the entire Monte Hall problem and \"World War 2 planes.\" It can accurately explain and resolve my doubts.Unlike humans, chatbots can cleverly avoid the cognitive traps that humans easily fall into. So it can explain unintuitive, surprising statistics paradoxes well.\n",
    "\n",
    "At the beginning of the class, I knew very little about chatbot , so I didn't think it was a good tool to help me learn coding, statistics, and data science. I believed it couldn't meet our learning needs and might lead to some errors for beginners like me.\n",
    "\n",
    "Then，after gaining a preliminary understanding of AI-driven assistance, I saw chatbot as a supplemental aid, useful mainly for quick answers or syntax-related queries. However, as I've used the tool more with the teacher's guidance, I've come to appreciate how it can support deeper learning processes, such as helping me understand complex statistical concepts and complicated code(like the code in HW2 Question5.3). Chatbot has been invaluable in not only providing solutions but also explaining the \"why\" behind the solutions, reinforcing my conceptual understanding.\n",
    "\n",
    "Additionally, the ability to ask follow-up questions, receive tailored responses, and improve the answer based on dialogue is something traditional resources, like textbooks, don't offer. Chatbots can provide targeted answers to questions rather than just vaguely pointing out a general direction or leaving me to explore on my own. I am used to learning unknown concepts by chatbot instead of searching online, which may waste time sifting through valid information. For example, in Markovian, Chatbot explained this entirely new concept to me and, under my guidance, completed the interpretation of complex code. Its potential to enhance problem-solving skills and deepen my understanding of coding, statistics and data science is significant.\n"
   ]
  },
  {
   "cell_type": "markdown",
   "id": "3b1b8ac1",
   "metadata": {},
   "source": [
    "Question 8:"
   ]
  },
  {
   "cell_type": "markdown",
   "id": "f55d3946",
   "metadata": {},
   "source": [
    "(1).(2).(3).summary of chatbot:https://chatgpt.com/share/66ea724e-b040-8010-9b1d-5d25b55502eb"
   ]
  },
  {
   "cell_type": "markdown",
   "id": "e5673b15",
   "metadata": {},
   "source": [
    "(4).Based on our previous conversation, I’ve gained a clearer understanding of the skills essential for a career in data science, such as coding, data analysis, communication, and adaptability. I understand that having specialized knowledge is crucial for pursuing a data-related job, such as being proficient in programming languages (like Python and R). I need to focus on building these technical skills.Secondly, communication is an unavoidable aspect of daily work life. To become a data analyst, I must possess good communication skills to report findings.Finally, regardless of the job position, we need to have the ability to learn new things. The world is changing rapidly, which requires us to continuously update our knowledge.I believe I can pursue my interest in data science by committing to continuous learning and gaining practical experience through projects or internships. These hands-on experiences will be key to building the skills and confidence needed to advance in this career."
   ]
  },
  {
   "cell_type": "markdown",
   "id": "a227d3d5",
   "metadata": {},
   "source": [
    "(5).The ChatBot was helpful in providing a broad understanding of the skills necessary for a career in data science and adjacent roles. It helped me to map out the core competencies required and offered some alternative career paths if coding aren't my strengths. However, the ideas provided by Chatbot are quite ordinary, and most people can come up with them. The conversation felt somewhat surface-level, lacking the depth and specificity that could come from a subject matter expert with real-world experience.\n",
    "\n",
    "When I felt the information was too general, my next steps would be to seek more specialized guidance, possibly by connecting with industry professionals through networking events, mentorship programs, or workshops.\n",
    "\n",
    "These options would offer more in-depth, useful advice, particularly with relation to the most in-demand abilities and instruments as well as how to best position myself to succeed in the industry."
   ]
  },
  {
   "cell_type": "markdown",
   "id": "9848e4b8",
   "metadata": {},
   "source": [
    "Question9:yes."
   ]
  }
 ],
 "metadata": {
  "kernelspec": {
   "display_name": "Python 3 (ipykernel)",
   "language": "python",
   "name": "python3"
  },
  "language_info": {
   "codemirror_mode": {
    "name": "ipython",
    "version": 3
   },
   "file_extension": ".py",
   "mimetype": "text/x-python",
   "name": "python",
   "nbconvert_exporter": "python",
   "pygments_lexer": "ipython3",
   "version": "3.11.6"
  }
 },
 "nbformat": 4,
 "nbformat_minor": 5
}
